{
  "cells": [
    {
      "cell_type": "code",
      "source": [
        "import torch\n",
        "from torchvision import datasets, models, transforms\n",
        "import torch.nn as nn\n",
        "from  torch.optim import Adam\n",
        "import torch.nn.functional as ff\n"
      ],
      "metadata": {
        "id": "0K8O5SeyV0fj"
      },
      "execution_count": 5,
      "outputs": []
    },
    {
      "cell_type": "code",
      "source": [
        "# !wget 'https://s3.amazonaws.com/content.udacity-data.com/nd089/flower_data.tar.gz'\n",
        "# !unlink flowers\n",
        "# !tar -xzf flower_data.tar.gz"
      ],
      "metadata": {
        "id": "QCIAte4oWKqG"
      },
      "execution_count": 4,
      "outputs": []
    },
    {
      "cell_type": "code",
      "source": [
        "data_dir = 'flowers'\n",
        "train_dir = data_dir + '/train'\n",
        "valid_dir = data_dir + '/valid'\n",
        "test_dir = data_dir + '/test'"
      ],
      "metadata": {
        "id": "Q7duFpdmWM-I"
      },
      "execution_count": 6,
      "outputs": []
    },
    {
      "cell_type": "code",
      "source": [
        "train_transformers = transforms.Compose({\n",
        "    transforms.Resize(224),\n",
        "    transforms.RandomRotation(20),\n",
        "    transforms.CenterCrop(220),\n",
        "    transforms.ToTensor(),\n",
        "    transforms.Normalize([0.485, 0.456, 0.406], [0.229, 0.224, 0.225])\n",
        "})\n",
        "\n",
        "test_transformers = transforms.Compose([\n",
        "    transforms.CenterCrop(220),\n",
        "    transforms.ToTensor(),\n",
        "    transforms.Normalize([0.485, 0.456, 0.406], [0.229, 0.224, 0.225])\n",
        "])\n",
        "\n",
        "# load data\n",
        "train_dataset = datasets.ImageFolder(train_dir, transform=train_transformers)\n",
        "train_loader = torch.utils.data.DataLoader(dataset=train_dataset, batch_size=12, shuffle=True)\n",
        "\n",
        "test_dataset = datasets.ImageFolder(root=test_dir, transform=test_transformers)\n",
        "test_laoder = torch.utils.data.DataLoader(dataset=test_dataset, batch_size=12, shuffle=True)\n"
      ],
      "metadata": {
        "id": "jStUrEi-YExd"
      },
      "execution_count": 7,
      "outputs": []
    },
    {
      "cell_type": "code",
      "source": [
        "iamges, labels = next(iter(train_loader))\n",
        "labels"
      ],
      "metadata": {
        "id": "OIFAyAONWNA6",
        "outputId": "60a93b42-159a-4fa9-894f-425fccd5b7f8",
        "colab": {
          "base_uri": "https://localhost:8080/"
        }
      },
      "execution_count": 8,
      "outputs": [
        {
          "output_type": "execute_result",
          "data": {
            "text/plain": [
              "tensor([27,  2,  9, 48, 21, 43, 58, 72, 18, 50, 40, 44])"
            ]
          },
          "metadata": {},
          "execution_count": 8
        }
      ]
    },
    {
      "cell_type": "code",
      "source": [
        "import json\n",
        "\n",
        "with open('cat_to_name.json', 'r') as f:\n",
        "    cat_to_name = json.load(f)\n",
        "cat_to_name, len(cat_to_name)"
      ],
      "metadata": {
        "id": "3nhkJeqiWNDW",
        "outputId": "f82056ef-daca-4a7e-fe73-ec10648a011c",
        "colab": {
          "base_uri": "https://localhost:8080/"
        }
      },
      "execution_count": 10,
      "outputs": [
        {
          "output_type": "execute_result",
          "data": {
            "text/plain": [
              "({'21': 'fire lily',\n",
              "  '3': 'canterbury bells',\n",
              "  '45': 'bolero deep blue',\n",
              "  '1': 'pink primrose',\n",
              "  '34': 'mexican aster',\n",
              "  '27': 'prince of wales feathers',\n",
              "  '7': 'moon orchid',\n",
              "  '16': 'globe-flower',\n",
              "  '25': 'grape hyacinth',\n",
              "  '26': 'corn poppy',\n",
              "  '79': 'toad lily',\n",
              "  '39': 'siam tulip',\n",
              "  '24': 'red ginger',\n",
              "  '67': 'spring crocus',\n",
              "  '35': 'alpine sea holly',\n",
              "  '32': 'garden phlox',\n",
              "  '10': 'globe thistle',\n",
              "  '6': 'tiger lily',\n",
              "  '93': 'ball moss',\n",
              "  '33': 'love in the mist',\n",
              "  '9': 'monkshood',\n",
              "  '102': 'blackberry lily',\n",
              "  '14': 'spear thistle',\n",
              "  '19': 'balloon flower',\n",
              "  '100': 'blanket flower',\n",
              "  '13': 'king protea',\n",
              "  '49': 'oxeye daisy',\n",
              "  '15': 'yellow iris',\n",
              "  '61': 'cautleya spicata',\n",
              "  '31': 'carnation',\n",
              "  '64': 'silverbush',\n",
              "  '68': 'bearded iris',\n",
              "  '63': 'black-eyed susan',\n",
              "  '69': 'windflower',\n",
              "  '62': 'japanese anemone',\n",
              "  '20': 'giant white arum lily',\n",
              "  '38': 'great masterwort',\n",
              "  '4': 'sweet pea',\n",
              "  '86': 'tree mallow',\n",
              "  '101': 'trumpet creeper',\n",
              "  '42': 'daffodil',\n",
              "  '22': 'pincushion flower',\n",
              "  '2': 'hard-leaved pocket orchid',\n",
              "  '54': 'sunflower',\n",
              "  '66': 'osteospermum',\n",
              "  '70': 'tree poppy',\n",
              "  '85': 'desert-rose',\n",
              "  '99': 'bromelia',\n",
              "  '87': 'magnolia',\n",
              "  '5': 'english marigold',\n",
              "  '92': 'bee balm',\n",
              "  '28': 'stemless gentian',\n",
              "  '97': 'mallow',\n",
              "  '57': 'gaura',\n",
              "  '40': 'lenten rose',\n",
              "  '47': 'marigold',\n",
              "  '59': 'orange dahlia',\n",
              "  '48': 'buttercup',\n",
              "  '55': 'pelargonium',\n",
              "  '36': 'ruby-lipped cattleya',\n",
              "  '91': 'hippeastrum',\n",
              "  '29': 'artichoke',\n",
              "  '71': 'gazania',\n",
              "  '90': 'canna lily',\n",
              "  '18': 'peruvian lily',\n",
              "  '98': 'mexican petunia',\n",
              "  '8': 'bird of paradise',\n",
              "  '30': 'sweet william',\n",
              "  '17': 'purple coneflower',\n",
              "  '52': 'wild pansy',\n",
              "  '84': 'columbine',\n",
              "  '12': \"colt's foot\",\n",
              "  '11': 'snapdragon',\n",
              "  '96': 'camellia',\n",
              "  '23': 'fritillary',\n",
              "  '50': 'common dandelion',\n",
              "  '44': 'poinsettia',\n",
              "  '53': 'primula',\n",
              "  '72': 'azalea',\n",
              "  '65': 'californian poppy',\n",
              "  '80': 'anthurium',\n",
              "  '76': 'morning glory',\n",
              "  '37': 'cape flower',\n",
              "  '56': 'bishop of llandaff',\n",
              "  '60': 'pink-yellow dahlia',\n",
              "  '82': 'clematis',\n",
              "  '58': 'geranium',\n",
              "  '75': 'thorn apple',\n",
              "  '41': 'barbeton daisy',\n",
              "  '95': 'bougainvillea',\n",
              "  '43': 'sword lily',\n",
              "  '83': 'hibiscus',\n",
              "  '78': 'lotus lotus',\n",
              "  '88': 'cyclamen',\n",
              "  '94': 'foxglove',\n",
              "  '81': 'frangipani',\n",
              "  '74': 'rose',\n",
              "  '89': 'watercress',\n",
              "  '73': 'water lily',\n",
              "  '46': 'wallflower',\n",
              "  '77': 'passion flower',\n",
              "  '51': 'petunia'},\n",
              " 102)"
            ]
          },
          "metadata": {},
          "execution_count": 10
        }
      ]
    },
    {
      "cell_type": "code",
      "source": [
        "# TODO: Build and train your network\n",
        "from collections import OrderedDict\n",
        "model = models.VGG(features=True)\n",
        "\n",
        "# freeze base layers\n",
        "for param in model.parameters():\n",
        "    param.requires_grad = False\n",
        "\n",
        "# create classifier\n",
        "classifier = nn.Sequential(OrderedDict({\n",
        "    \"fc1\": nn.Linear(7, 250),\n",
        "    \"relu1\": nn.ReLU(),\n",
        "    \"dropout\": nn.Dropout(),\n",
        "    \"fc2\": nn.Linear(250,90),\n",
        "    \"relu2\": nn.ReLU(),\n",
        "    \"fc3\": nn.Linear(90, 102),\n",
        "    \"output\": nn.LogSoftmax(dim=1)\n",
        "}))\n",
        "\n",
        "\n",
        "model.classifier = classifier\n"
      ],
      "metadata": {
        "id": "2Pejx8kmY4f_"
      },
      "execution_count": 11,
      "outputs": []
    },
    {
      "cell_type": "code",
      "source": [
        "from torch.optim import Adam\n",
        "\n",
        "lr = 0.003\n",
        "opochs = 20\n",
        "\n",
        "optimizer = Adam(params=model.classifier.parameters(), lr=lr)\n",
        "criterion = nn.NLLLoss()\n",
        "\n",
        "device = torch.device(\"cuda\" if torch.cuda.is_available() else \"cpu\") # device\n",
        "\n",
        "model.to(device)"
      ],
      "metadata": {
        "id": "AW-zzVqnY4ig",
        "outputId": "6a2d3bf7-3c2c-4844-b23d-e0d28fa48439",
        "colab": {
          "base_uri": "https://localhost:8080/"
        }
      },
      "execution_count": 14,
      "outputs": [
        {
          "output_type": "execute_result",
          "data": {
            "text/plain": [
              "VGG(\n",
              "  (avgpool): AdaptiveAvgPool2d(output_size=(7, 7))\n",
              "  (classifier): Sequential(\n",
              "    (fc1): Linear(in_features=7, out_features=250, bias=True)\n",
              "    (relu1): ReLU()\n",
              "    (dropout): Dropout(p=0.5, inplace=False)\n",
              "    (fc2): Linear(in_features=250, out_features=90, bias=True)\n",
              "    (relu2): ReLU()\n",
              "    (fc3): Linear(in_features=90, out_features=102, bias=True)\n",
              "    (output): LogSoftmax(dim=1)\n",
              "  )\n",
              ")"
            ]
          },
          "metadata": {},
          "execution_count": 14
        }
      ]
    },
    {
      "cell_type": "code",
      "source": [
        "from google.colab import drive\n",
        "drive.mount('/content/drive')"
      ],
      "metadata": {
        "id": "aQ248-EMaURI",
        "outputId": "5ac5e760-955b-4ed9-9a71-5f01d42d13ee",
        "colab": {
          "base_uri": "https://localhost:8080/"
        }
      },
      "execution_count": 15,
      "outputs": [
        {
          "output_type": "stream",
          "name": "stdout",
          "text": [
            "Mounted at /content/drive\n"
          ]
        }
      ]
    },
    {
      "cell_type": "code",
      "source": [],
      "metadata": {
        "id": "4-KVHzvlY4kw"
      },
      "execution_count": 1,
      "outputs": []
    },
    {
      "cell_type": "code",
      "source": [],
      "metadata": {
        "id": "8TztSsG2Y_k7"
      },
      "execution_count": 1,
      "outputs": []
    },
    {
      "cell_type": "code",
      "source": [],
      "metadata": {
        "id": "oi64iuXQY_nY"
      },
      "execution_count": 1,
      "outputs": []
    },
    {
      "cell_type": "code",
      "source": [],
      "metadata": {
        "id": "jy82RsdDY_pj"
      },
      "execution_count": 1,
      "outputs": []
    },
    {
      "cell_type": "code",
      "source": [],
      "metadata": {
        "id": "o2JvxfU-Y_rn"
      },
      "execution_count": 1,
      "outputs": []
    },
    {
      "cell_type": "code",
      "source": [],
      "metadata": {
        "id": "H7-7sLh6Y_tr"
      },
      "execution_count": 1,
      "outputs": []
    },
    {
      "cell_type": "code",
      "source": [],
      "metadata": {
        "id": "VBgbnKpUY_v_"
      },
      "execution_count": null,
      "outputs": []
    }
  ],
  "metadata": {
    "kernelspec": {
      "display_name": "Python 3",
      "name": "python3"
    },
    "language_info": {
      "codemirror_mode": {
        "name": "ipython",
        "version": 3
      },
      "file_extension": ".py",
      "mimetype": "text/x-python",
      "name": "python",
      "nbconvert_exporter": "python",
      "pygments_lexer": "ipython3",
      "version": "3.10.12"
    },
    "colab": {
      "provenance": [],
      "gpuType": "T4"
    },
    "accelerator": "GPU"
  },
  "nbformat": 4,
  "nbformat_minor": 0
}